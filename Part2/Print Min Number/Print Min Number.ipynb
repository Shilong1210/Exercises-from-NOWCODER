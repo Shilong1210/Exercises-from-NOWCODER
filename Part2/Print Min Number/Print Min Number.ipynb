{
 "cells": [
  {
   "cell_type": "markdown",
   "metadata": {},
   "source": [
    "![image](./Question.PNG)"
   ]
  },
  {
   "cell_type": "code",
   "execution_count": 7,
   "metadata": {},
   "outputs": [],
   "source": [
    "# -*- coding:utf-8 -*-\n",
    "class Solution:\n",
    "    \n",
    "    def PrintMinNumber(self, numbers):\n",
    "        # write code here\n",
    "        if not numbers:\n",
    "            return \"\"\n",
    "        if(len(numbers)==1):\n",
    "            return numbers[0]\n",
    "        \n",
    "        perm_list = []\n",
    "        num_list = []\n",
    "        self.perm(numbers,0,len(numbers),perm_list)\n",
    "        for nums in perm_list:\n",
    "            tmp = [str(i) for i in nums]\n",
    "            num_list.append(int(''.join(tmp)))\n",
    "            \n",
    "        return min(num_list)\n",
    "    \n",
    "    def perm(self,n,begin,end,perm_list):\n",
    "        if begin>=end:\n",
    "            tmp = [i for i in n]\n",
    "            perm_list.append(tmp)\n",
    "        else:\n",
    "            i=begin\n",
    "            for num in range(begin,end):\n",
    "                n[num],n[i]=n[i],n[num]\n",
    "                self.perm(n,begin+1,end,perm_list)\n",
    "                n[num],n[i]=n[i],n[num]"
   ]
  },
  {
   "cell_type": "code",
   "execution_count": 8,
   "metadata": {},
   "outputs": [
    {
     "data": {
      "text/plain": [
       "321323"
      ]
     },
     "execution_count": 8,
     "metadata": {},
     "output_type": "execute_result"
    }
   ],
   "source": [
    "A = [3,32,321]\n",
    "Solution().PrintMinNumber(A)"
   ]
  }
 ],
 "metadata": {
  "kernelspec": {
   "display_name": "Python 3",
   "language": "python",
   "name": "python3"
  },
  "language_info": {
   "codemirror_mode": {
    "name": "ipython",
    "version": 3
   },
   "file_extension": ".py",
   "mimetype": "text/x-python",
   "name": "python",
   "nbconvert_exporter": "python",
   "pygments_lexer": "ipython3",
   "version": "3.6.8"
  }
 },
 "nbformat": 4,
 "nbformat_minor": 2
}
