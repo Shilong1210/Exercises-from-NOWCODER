{
 "cells": [
  {
   "cell_type": "markdown",
   "metadata": {},
   "source": [
    "![image](./Question.PNG)"
   ]
  },
  {
   "cell_type": "code",
   "execution_count": 6,
   "metadata": {},
   "outputs": [],
   "source": [
    "# -*- coding:utf-8 -*-\n",
    "class Solution:\n",
    "    # matrix类型为二维列表，需要返回列表\n",
    "    def printMatrix(self, matrix):\n",
    "        # write code here\n",
    "        M = len(matrix)\n",
    "        N = len(matrix[0])\n",
    "        numList = []\n",
    "        if(M==0):\n",
    "            return []\n",
    "        if(M==1):\n",
    "            return matrix[0]\n",
    "        numList = numList+matrix.pop(0)\n",
    "        while(matrix):\n",
    "            matrix = self.rotate(matrix)\n",
    "            numList = numList+matrix.pop(0)\n",
    "        return numList\n",
    "        \n",
    "    def rotate(self,matrix):\n",
    "        M = len(matrix)\n",
    "        N = len(matrix[0])\n",
    "        A = []\n",
    "        for i in range(N):\n",
    "            B = []\n",
    "            for j in range(M):\n",
    "                B.append(matrix[j][i])\n",
    "            A.append(B)\n",
    "        A.reverse()\n",
    "        return A"
   ]
  },
  {
   "cell_type": "code",
   "execution_count": 7,
   "metadata": {},
   "outputs": [
    {
     "data": {
      "text/plain": [
       "[1, 2, 4, 3]"
      ]
     },
     "execution_count": 7,
     "metadata": {},
     "output_type": "execute_result"
    }
   ],
   "source": [
    "A = [[1,2],[3,4]]\n",
    "Solution().printMatrix(A)"
   ]
  }
 ],
 "metadata": {
  "kernelspec": {
   "display_name": "Python 3",
   "language": "python",
   "name": "python3"
  },
  "language_info": {
   "codemirror_mode": {
    "name": "ipython",
    "version": 3
   },
   "file_extension": ".py",
   "mimetype": "text/x-python",
   "name": "python",
   "nbconvert_exporter": "python",
   "pygments_lexer": "ipython3",
   "version": "3.7.1"
  }
 },
 "nbformat": 4,
 "nbformat_minor": 2
}
