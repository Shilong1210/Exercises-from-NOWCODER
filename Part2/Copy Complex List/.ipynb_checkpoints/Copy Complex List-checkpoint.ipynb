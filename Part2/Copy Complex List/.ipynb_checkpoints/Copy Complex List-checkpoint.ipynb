{
 "cells": [
  {
   "cell_type": "markdown",
   "metadata": {},
   "source": [
    "![image](./Question.PNG)"
   ]
  },
  {
   "cell_type": "code",
   "execution_count": 1,
   "metadata": {},
   "outputs": [],
   "source": [
    "# -*- coding:utf-8 -*-\n",
    "class RandomListNode:\n",
    "    def __init__(self, x):\n",
    "        self.label = x\n",
    "        self.next = None\n",
    "        self.random = None"
   ]
  },
  {
   "cell_type": "code",
   "execution_count": null,
   "metadata": {},
   "outputs": [],
   "source": [
    "class Solution:\n",
    "    # 返回 RandomListNode\n",
    "    def Clone(self, pHead):\n",
    "        # write code here\n",
    "        head = pHead\n",
    "        \n",
    "        new_head = None\n",
    "        \n",
    "        old_new_dic = {}\n",
    "        random_dic = {}\n",
    "        \n",
    "        while head:\n",
    "            node = RandomListNode(head.label)\n",
    "            node.random = head.random\n",
    "            old_new_dic[id(head)] = id(node)\n",
    "            random_dic[id(node)] = node\n",
    "            head = head.next\n",
    "            \n",
    "            if new_head:\n",
    "                new_head.next = node\n",
    "                new_head = new_head.next\n",
    "            else:\n",
    "                new_head = node\n",
    "                pHead = new_head\n",
    "        \n",
    "        new_head = pHead\n",
    "        while new_head:\n",
    "            if new_head.random != None:\n",
    "                new_head.random = random_dic[old_new_dic[id(new_head.random)]]\n",
    "            new_head = new_head.next\n",
    "        \n",
    "        return pHead"
   ]
  }
 ],
 "metadata": {
  "kernelspec": {
   "display_name": "Python 3",
   "language": "python",
   "name": "python3"
  },
  "language_info": {
   "codemirror_mode": {
    "name": "ipython",
    "version": 3
   },
   "file_extension": ".py",
   "mimetype": "text/x-python",
   "name": "python",
   "nbconvert_exporter": "python",
   "pygments_lexer": "ipython3",
   "version": "3.7.1"
  }
 },
 "nbformat": 4,
 "nbformat_minor": 2
}
