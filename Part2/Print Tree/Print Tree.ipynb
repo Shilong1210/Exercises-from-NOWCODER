{
 "cells": [
  {
   "cell_type": "markdown",
   "metadata": {},
   "source": [
    "![image](./Question.PNG)"
   ]
  },
  {
   "cell_type": "code",
   "execution_count": 1,
   "metadata": {},
   "outputs": [],
   "source": [
    "class TreeNode:\n",
    "    def __init__(self, x):\n",
    "        self.val = x\n",
    "        self.left = None\n",
    "        self.right = None"
   ]
  },
  {
   "cell_type": "code",
   "execution_count": 2,
   "metadata": {},
   "outputs": [],
   "source": [
    "# -*- coding:utf-8 -*-\n",
    "# class TreeNode:\n",
    "#     def __init__(self, x):\n",
    "#         self.val = x\n",
    "#         self.left = None\n",
    "#         self.right = None\n",
    "class Solution:\n",
    "    # 返回从上到下每个节点值列表，例：[1,2,3]\n",
    "    def PrintFromTopToBottom(self, root):\n",
    "        # write code here\n",
    "        if(not root):\n",
    "            return []\n",
    "        valList = []\n",
    "        nodeList = [root]\n",
    "        while(nodeList):\n",
    "            node = nodeList.pop(0)\n",
    "            valList.append(node.val)\n",
    "            if(node.left):\n",
    "                nodeList.append(node.left)\n",
    "            if(node.right):\n",
    "                nodeList.append(node.right)\n",
    "        return valList"
   ]
  },
  {
   "cell_type": "code",
   "execution_count": null,
   "metadata": {},
   "outputs": [],
   "source": [
    "# -*- coding:utf-8 -*-\n",
    "# class TreeNode:\n",
    "#     def __init__(self, x):\n",
    "#         self.val = x\n",
    "#         self.left = None\n",
    "#         self.right = None\n",
    "class Solution:\n",
    "    # 返回从上到下每个节点值列表，例：[1,2,3]\n",
    "    def PrintFromTopToBottom(self, root):\n",
    "        # write code here\n",
    "        if(not root):\n",
    "            return []\n",
    "        valList = []\n",
    "        \n",
    "    \n",
    "    def addVal(root,valList):\n",
    "        if not root:\n",
    "            return\n",
    "        valList.append(root.val)\n",
    "        addVal(root.left)\n",
    "        addVal(root.right)\n",
    "        return valList"
   ]
  },
  {
   "cell_type": "code",
   "execution_count": 3,
   "metadata": {},
   "outputs": [],
   "source": [
    "node1 = TreeNode(1)\n",
    "node2 = TreeNode(2)\n",
    "node3 = TreeNode(3)\n",
    "node4 = TreeNode(4)\n",
    "node5 = TreeNode(5)\n",
    "node6 = TreeNode(6)\n",
    "\n",
    "node1.left = node2\n",
    "node1.right = node3\n",
    "node2.left = node4\n",
    "node2.right = node5\n",
    "node3.left = node6"
   ]
  },
  {
   "cell_type": "code",
   "execution_count": 4,
   "metadata": {},
   "outputs": [
    {
     "data": {
      "text/plain": [
       "[1, 2, 3, 4, 5, 6]"
      ]
     },
     "execution_count": 4,
     "metadata": {},
     "output_type": "execute_result"
    }
   ],
   "source": [
    "Solution().PrintFromTopToBottom(node1)"
   ]
  }
 ],
 "metadata": {
  "kernelspec": {
   "display_name": "Python 3",
   "language": "python",
   "name": "python3"
  },
  "language_info": {
   "codemirror_mode": {
    "name": "ipython",
    "version": 3
   },
   "file_extension": ".py",
   "mimetype": "text/x-python",
   "name": "python",
   "nbconvert_exporter": "python",
   "pygments_lexer": "ipython3",
   "version": "3.7.1"
  }
 },
 "nbformat": 4,
 "nbformat_minor": 2
}
