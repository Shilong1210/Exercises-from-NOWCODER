{
 "cells": [
  {
   "cell_type": "markdown",
   "metadata": {},
   "source": [
    "![image](Question.PNG)"
   ]
  },
  {
   "cell_type": "code",
   "execution_count": 52,
   "metadata": {},
   "outputs": [],
   "source": [
    "# -*- coding:utf-8 -*-\n",
    "class Solution:\n",
    "    def VerifySquenceOfBST(self, sequence):\n",
    "        # write code here\n",
    "        if(not sequence):\n",
    "            return False\n",
    "        return self.VerifyBST(sequence)\n",
    "    \n",
    "    def VerifyBST(self, sequence):\n",
    "        length = len(sequence)\n",
    "        if(not sequence):\n",
    "            return True\n",
    "        if(length==1):\n",
    "            return True\n",
    "        tmp = sequence[-1]\n",
    "        index = 0\n",
    "        while(sequence[index]<tmp):\n",
    "            index += 1\n",
    "        for i in range(index,length-1):\n",
    "            if(tmp>sequence[i]):\n",
    "                return False\n",
    "        return self.VerifyBST(sequence[:index]) and self.VerifyBST(sequence[index:length-1])"
   ]
  },
  {
   "cell_type": "code",
   "execution_count": 53,
   "metadata": {},
   "outputs": [
    {
     "data": {
      "text/plain": [
       "False"
      ]
     },
     "execution_count": 53,
     "metadata": {},
     "output_type": "execute_result"
    }
   ],
   "source": [
    "A = [1,2,7,4,8,5,3]\n",
    "Solution().VerifySquenceOfBST(A)"
   ]
  }
 ],
 "metadata": {
  "kernelspec": {
   "display_name": "Python 3",
   "language": "python",
   "name": "python3"
  },
  "language_info": {
   "codemirror_mode": {
    "name": "ipython",
    "version": 3
   },
   "file_extension": ".py",
   "mimetype": "text/x-python",
   "name": "python",
   "nbconvert_exporter": "python",
   "pygments_lexer": "ipython3",
   "version": "3.6.8"
  }
 },
 "nbformat": 4,
 "nbformat_minor": 2
}
