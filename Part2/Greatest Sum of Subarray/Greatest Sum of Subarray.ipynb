{
 "cells": [
  {
   "cell_type": "markdown",
   "metadata": {},
   "source": [
    "![image](./Question.PNG)"
   ]
  },
  {
   "cell_type": "code",
   "execution_count": 52,
   "metadata": {},
   "outputs": [],
   "source": [
    "# -*- coding:utf-8 -*-\n",
    "class Solution:\n",
    "    def FindGreatestSumOfSubArray(self, array):\n",
    "        # write code here\n",
    "        if not array:\n",
    "            return 0\n",
    "        if len(array) == 1:\n",
    "            return array[0]\n",
    "        \n",
    "        stack = []\n",
    "        sumArray = []\n",
    "        \n",
    "        for i in array:\n",
    "            stack.append(i)\n",
    "            if(sum(stack)< 0):\n",
    "                tmp = stack[0:len(stack)-1]\n",
    "                if tmp:\n",
    "                    sumArray.append(sum(tmp))\n",
    "                else:\n",
    "                    sumArray.append(stack[0])\n",
    "                stack = []\n",
    "            else:\n",
    "                sumArray.append(sum(stack))\n",
    "                \n",
    "        if stack:\n",
    "            sumArray.append(sum(stack))\n",
    "        \n",
    "        return max(sumArray)"
   ]
  },
  {
   "cell_type": "code",
   "execution_count": 53,
   "metadata": {},
   "outputs": [
    {
     "data": {
      "text/plain": [
       "18"
      ]
     },
     "execution_count": 53,
     "metadata": {},
     "output_type": "execute_result"
    }
   ],
   "source": [
    "A = [1,-2,3,10,-4,7,2,-5]\n",
    "Solution().FindGreatestSumOfSubArray(A)"
   ]
  }
 ],
 "metadata": {
  "kernelspec": {
   "display_name": "Python 3",
   "language": "python",
   "name": "python3"
  },
  "language_info": {
   "codemirror_mode": {
    "name": "ipython",
    "version": 3
   },
   "file_extension": ".py",
   "mimetype": "text/x-python",
   "name": "python",
   "nbconvert_exporter": "python",
   "pygments_lexer": "ipython3",
   "version": "3.6.8"
  }
 },
 "nbformat": 4,
 "nbformat_minor": 2
}
