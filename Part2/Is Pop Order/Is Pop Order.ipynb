{
 "cells": [
  {
   "cell_type": "markdown",
   "metadata": {},
   "source": [
    "![image](./Question.PNG)"
   ]
  },
  {
   "cell_type": "code",
   "execution_count": 34,
   "metadata": {},
   "outputs": [],
   "source": [
    "# -*- coding:utf-8 -*-\n",
    "class Solution:\n",
    "    def IsPopOrder(self, pushV, popV):\n",
    "        # write code here\n",
    "        stack = []\n",
    "        if(len(pushV)!=len(popV)):\n",
    "            return False\n",
    "        for i in range(len(pushV)):\n",
    "            if(pushV[i] not in popV):\n",
    "                return False\n",
    "            \n",
    "        pre = 0\n",
    "        for i in range(len(popV)):\n",
    "            if(popV[i] in stack):\n",
    "                tmp = stack.pop(-1)\n",
    "                if(tmp!=popV[i]):\n",
    "                    return False\n",
    "            else:\n",
    "                index = pushV.index(popV[i])\n",
    "                stack = stack + pushV[pre:index]\n",
    "                pre = index+1\n",
    "        return True"
   ]
  },
  {
   "cell_type": "code",
   "execution_count": 35,
   "metadata": {},
   "outputs": [
    {
     "data": {
      "text/plain": [
       "True"
      ]
     },
     "execution_count": 35,
     "metadata": {},
     "output_type": "execute_result"
    }
   ],
   "source": [
    "A = [1,2,3,4,5]\n",
    "B = [4,5,3,2,1]\n",
    "Solution().IsPopOrder(A,B)"
   ]
  }
 ],
 "metadata": {
  "kernelspec": {
   "display_name": "Python 3",
   "language": "python",
   "name": "python3"
  },
  "language_info": {
   "codemirror_mode": {
    "name": "ipython",
    "version": 3
   },
   "file_extension": ".py",
   "mimetype": "text/x-python",
   "name": "python",
   "nbconvert_exporter": "python",
   "pygments_lexer": "ipython3",
   "version": "3.7.1"
  }
 },
 "nbformat": 4,
 "nbformat_minor": 2
}
