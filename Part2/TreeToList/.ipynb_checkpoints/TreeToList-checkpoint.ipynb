{
 "cells": [
  {
   "cell_type": "markdown",
   "metadata": {},
   "source": [
    "![image](./Question.PNG)"
   ]
  },
  {
   "cell_type": "code",
   "execution_count": 1,
   "metadata": {},
   "outputs": [],
   "source": [
    "class TreeNode:\n",
    "    def __init__(self, x):\n",
    "        self.val = x\n",
    "        self.left = None\n",
    "        self.right = None"
   ]
  },
  {
   "cell_type": "code",
   "execution_count": 2,
   "metadata": {},
   "outputs": [],
   "source": [
    "# -*- coding:utf-8 -*-\n",
    "class Solution:\n",
    "    def Convert(self, pRootOfTree):\n",
    "        # write code here\n",
    "        nodeList = []\n",
    "        \n",
    "        if not pRootOfTree:\n",
    "            return\n",
    "        \n",
    "        self.buildList(pRootOfTree,nodeList)\n",
    "        \n",
    "        for i in range(1,len(nodeList)-1):\n",
    "            nodeList[i].left = nodeList[i-1]\n",
    "            nodeList[i].right = nodeList[i+1]\n",
    "\n",
    "        if(len(nodeList)>1):\n",
    "            nodeList[0].right = nodeList[1]\n",
    "            nodeList[-1].left = nodeList[-2]\n",
    "            \n",
    "        return nodeList[0]\n",
    "        \n",
    "    def buildList(self,pRootOfTree,nodeList):\n",
    "        if not pRootOfTree:\n",
    "            return\n",
    "        self.buildList(pRootOfTree.left,nodeList)\n",
    "        nodeList.append(pRootOfTree)\n",
    "        self.buildList(pRootOfTree.right,nodeList)"
   ]
  },
  {
   "cell_type": "code",
   "execution_count": 3,
   "metadata": {},
   "outputs": [],
   "source": [
    "node2 = TreeNode(2)\n",
    "node3 = TreeNode(3)\n",
    "node4 = TreeNode(4)\n",
    "node5 = TreeNode(5)\n",
    "node7 = TreeNode(7)\n",
    "\n",
    "node5.left = node3\n",
    "node5.right = node7\n",
    "node3.left = node2\n",
    "node3.right = node4"
   ]
  },
  {
   "cell_type": "code",
   "execution_count": 4,
   "metadata": {},
   "outputs": [],
   "source": [
    "node = Solution().Convert(node5)"
   ]
  },
  {
   "cell_type": "code",
   "execution_count": 9,
   "metadata": {},
   "outputs": [
    {
     "data": {
      "text/plain": [
       "4"
      ]
     },
     "execution_count": 9,
     "metadata": {},
     "output_type": "execute_result"
    }
   ],
   "source": [
    "node.right.right.val"
   ]
  }
 ],
 "metadata": {
  "kernelspec": {
   "display_name": "Python 3",
   "language": "python",
   "name": "python3"
  },
  "language_info": {
   "codemirror_mode": {
    "name": "ipython",
    "version": 3
   },
   "file_extension": ".py",
   "mimetype": "text/x-python",
   "name": "python",
   "nbconvert_exporter": "python",
   "pygments_lexer": "ipython3",
   "version": "3.6.8"
  }
 },
 "nbformat": 4,
 "nbformat_minor": 2
}
