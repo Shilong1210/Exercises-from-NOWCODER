{
 "cells": [
  {
   "cell_type": "markdown",
   "metadata": {},
   "source": [
    "![image](Question.PNG)"
   ]
  },
  {
   "cell_type": "code",
   "execution_count": 1,
   "metadata": {},
   "outputs": [
    {
     "name": "stdout",
     "output_type": "stream",
     "text": [
      "输入：3 2 1 3 0 2 620\n",
      "6\n"
     ]
    }
   ],
   "source": [
    "MAX = int(1e9)\n",
    "Input = input(\"输入：\")\n",
    "try:\n",
    "    tmp = Input.split(' ')\n",
    "except:\n",
    "    print(\"Input error\")\n",
    "    raise\n",
    "if(len(tmp)!=7):\n",
    "    raise Exception('Input error')\n",
    "try:\n",
    "    C1 = int(tmp[0])\n",
    "    C5 = int(tmp[1])\n",
    "    C10 = int(tmp[2])\n",
    "    C50 = int(tmp[3])\n",
    "    C100 = int(tmp[4])\n",
    "    C500 = int(tmp[5])\n",
    "    A = int(tmp[6])\n",
    "except:\n",
    "    print(\"Input error\")\n",
    "    raise\n",
    "if(C1<0|C5<0|C10<0|C50<0|C100<0|C500<0|A<0):\n",
    "    raise Exception('Input error')\n",
    "if(C1>MAX|C5>MAX|C10>MAX|C50>MAX|C100>MAX|C500>MAX|A>MAX):\n",
    "    raise Exception('Input error')\n",
    "\n",
    "Num = 0\n",
    "if(C1*1+C5*5+C10*10+C50*50+C100*100+C500*500<A):\n",
    "    print(\"NOWAY\")\n",
    "elif(C1*1+C5*5+C10*10+C50*50+C100*100+C500*500==A):\n",
    "    print(C1+C5+C10+C50+C100+C500)\n",
    "else:\n",
    "    tmp = min(C500,A//500)\n",
    "    A = A-tmp*500\n",
    "    Num+=tmp\n",
    "    tmp = min(C100,A//100)\n",
    "    A = A-tmp*100\n",
    "    Num+=tmp\n",
    "    tmp = min(C50,A//50)\n",
    "    A = A-tmp*50\n",
    "    Num+=tmp\n",
    "    tmp = min(C10,A//10)\n",
    "    A = A-tmp*10\n",
    "    Num+=tmp\n",
    "    tmp = min(C5,A//5)\n",
    "    A = A-tmp*5\n",
    "    Num+=tmp\n",
    "    tmp = min(C1,A//1)\n",
    "    A = A-tmp*1\n",
    "    Num+=tmp\n",
    "    print(Num)"
   ]
  }
 ],
 "metadata": {
  "kernelspec": {
   "display_name": "Python 3",
   "language": "python",
   "name": "python3"
  },
  "language_info": {
   "codemirror_mode": {
    "name": "ipython",
    "version": 3
   },
   "file_extension": ".py",
   "mimetype": "text/x-python",
   "name": "python",
   "nbconvert_exporter": "python",
   "pygments_lexer": "ipython3",
   "version": "3.7.1"
  }
 },
 "nbformat": 4,
 "nbformat_minor": 2
}
