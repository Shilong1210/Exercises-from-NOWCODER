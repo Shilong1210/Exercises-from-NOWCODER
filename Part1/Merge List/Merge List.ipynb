{
 "cells": [
  {
   "cell_type": "markdown",
   "metadata": {},
   "source": [
    "![image](./Question.PNG)"
   ]
  },
  {
   "cell_type": "code",
   "execution_count": 16,
   "metadata": {},
   "outputs": [],
   "source": [
    "class ListNode:\n",
    "    def __init__(self, x):\n",
    "        self.val = x\n",
    "        self.next = None"
   ]
  },
  {
   "cell_type": "code",
   "execution_count": 17,
   "metadata": {},
   "outputs": [],
   "source": [
    "# -*- coding:utf-8 -*-\n",
    "# class ListNode:\n",
    "#     def __init__(self, x):\n",
    "#         self.val = x\n",
    "#         self.next = None\n",
    "class Solution:\n",
    "    # 返回合并后列表\n",
    "    def Merge(self, pHead1, pHead2):\n",
    "        # write code here\n",
    "        if(pHead1==None):\n",
    "            return pHead2\n",
    "        elif(pHead2==None):\n",
    "            return pHead1\n",
    "        else:\n",
    "            if(pHead1.val<=pHead2.val):\n",
    "                pHead = pHead1\n",
    "                pHead1 = pHead1.next\n",
    "            else:\n",
    "                pHead = pHead2\n",
    "                pHead2 = pHead.next\n",
    "            Head = pHead\n",
    "            while((pHead1!=None)&(pHead2!=None)):\n",
    "                if(pHead1.val<=pHead2.val):\n",
    "                    pHead.next = pHead1\n",
    "                    pHead1 = pHead1.next\n",
    "                else:\n",
    "                    pHead.next = pHead2\n",
    "                    pHead2 = pHead2.next\n",
    "                pHead = pHead.next\n",
    "            if(pHead1!=None):\n",
    "                pHead.next = pHead1\n",
    "            elif(pHead2!=None):\n",
    "                pHead.next = pHead2\n",
    "            return Head"
   ]
  },
  {
   "cell_type": "code",
   "execution_count": 20,
   "metadata": {},
   "outputs": [],
   "source": [
    "node0 = ListNode(1)\n",
    "node1 = ListNode(2)\n",
    "node2 = ListNode(3)\n",
    "\n",
    "node0.next = node1\n",
    "node1.next = node2\n",
    "\n",
    "node3 = ListNode(3)\n",
    "node4 = ListNode(4)\n",
    "node5 = ListNode(5)\n",
    "\n",
    "node3.next = node4\n",
    "node4.next = node5"
   ]
  },
  {
   "cell_type": "code",
   "execution_count": 21,
   "metadata": {},
   "outputs": [
    {
     "data": {
      "text/plain": [
       "1"
      ]
     },
     "execution_count": 21,
     "metadata": {},
     "output_type": "execute_result"
    }
   ],
   "source": [
    "Solution().Merge(node0,node3).val"
   ]
  }
 ],
 "metadata": {
  "kernelspec": {
   "display_name": "Python 3",
   "language": "python",
   "name": "python3"
  },
  "language_info": {
   "codemirror_mode": {
    "name": "ipython",
    "version": 3
   },
   "file_extension": ".py",
   "mimetype": "text/x-python",
   "name": "python",
   "nbconvert_exporter": "python",
   "pygments_lexer": "ipython3",
   "version": "3.6.8"
  }
 },
 "nbformat": 4,
 "nbformat_minor": 2
}
