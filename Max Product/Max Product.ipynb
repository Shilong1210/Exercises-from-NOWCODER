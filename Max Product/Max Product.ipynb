{
 "cells": [
  {
   "cell_type": "code",
   "execution_count": 35,
   "metadata": {},
   "outputs": [
    {
     "name": "stdout",
     "output_type": "stream",
     "text": [
      "1 2 4 5 \n",
      "40\n"
     ]
    }
   ],
   "source": [
    "vec = list(map(int,input().strip().split()))\n",
    "\n",
    "N = len(vec)\n",
    "if(N<3):\n",
    "    print('invalid input')\n",
    "elif(N==3):\n",
    "    print(vec[0]*vec[1]*vec[2])\n",
    "else:\n",
    "    a1 = vec[:]\n",
    "    b1 = vec[:]\n",
    "    a2,b2 = [],[]\n",
    "    for i in range(3):\n",
    "        Max = max(a1)\n",
    "        a2.append(Max)\n",
    "        a1.remove(Max)\n",
    "    for j in range(2):\n",
    "        Min = min(b1)\n",
    "        b2.append(Min)\n",
    "        b1.remove(Min)\n",
    "    tmp1 = a2[0]*a2[1]*a2[2]\n",
    "    tmp2 = b2[0]*b2[1]*a2[0]\n",
    "    print(max(tmp1,tmp2))"
   ]
  }
 ],
 "metadata": {
  "kernelspec": {
   "display_name": "Python 3",
   "language": "python",
   "name": "python3"
  },
  "language_info": {
   "codemirror_mode": {
    "name": "ipython",
    "version": 3
   },
   "file_extension": ".py",
   "mimetype": "text/x-python",
   "name": "python",
   "nbconvert_exporter": "python",
   "pygments_lexer": "ipython3",
   "version": "3.6.5"
  }
 },
 "nbformat": 4,
 "nbformat_minor": 2
}
